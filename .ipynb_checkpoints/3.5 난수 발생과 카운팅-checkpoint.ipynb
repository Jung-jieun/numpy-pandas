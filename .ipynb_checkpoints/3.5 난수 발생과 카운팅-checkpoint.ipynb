{
 "cells": [
  {
   "cell_type": "code",
   "execution_count": 1,
   "id": "d03e535b",
   "metadata": {},
   "outputs": [],
   "source": [
    "import numpy as np"
   ]
  },
  {
   "cell_type": "markdown",
   "id": "c4c5f639",
   "metadata": {},
   "source": [
    "### 시드 설정"
   ]
  },
  {
   "cell_type": "code",
   "execution_count": 2,
   "id": "9544b0dc",
   "metadata": {},
   "outputs": [],
   "source": [
    "np.random.seed(0) # 0과 같거나 큰 정수"
   ]
  },
  {
   "cell_type": "markdown",
   "id": "347fc08f",
   "metadata": {},
   "source": [
    "- rand 함수는 0과 1 사이의 난수를 발생시키는 함수로 인수로 받은 숫자 횟수만큼 난수를 발생시킨다."
   ]
  },
  {
   "cell_type": "code",
   "execution_count": 3,
   "id": "b54856f2",
   "metadata": {},
   "outputs": [
    {
     "data": {
      "text/plain": [
       "array([0.5488135 , 0.71518937, 0.60276338, 0.54488318, 0.4236548 ])"
      ]
     },
     "execution_count": 3,
     "metadata": {},
     "output_type": "execute_result"
    }
   ],
   "source": [
    "np.random.rand(5)"
   ]
  },
  {
   "cell_type": "code",
   "execution_count": 4,
   "id": "13138086",
   "metadata": {},
   "outputs": [
    {
     "data": {
      "text/plain": [
       "array([0.64589411, 0.43758721, 0.891773  , 0.96366276, 0.38344152,\n",
       "       0.79172504, 0.52889492, 0.56804456, 0.92559664, 0.07103606])"
      ]
     },
     "execution_count": 4,
     "metadata": {},
     "output_type": "execute_result"
    }
   ],
   "source": [
    "np.random.rand(10)"
   ]
  },
  {
   "cell_type": "code",
   "execution_count": 5,
   "id": "ad1be459",
   "metadata": {},
   "outputs": [
    {
     "data": {
      "text/plain": [
       "array([0.0871293 , 0.0202184 , 0.83261985, 0.77815675, 0.87001215,\n",
       "       0.97861834, 0.79915856, 0.46147936, 0.78052918, 0.11827443])"
      ]
     },
     "execution_count": 5,
     "metadata": {},
     "output_type": "execute_result"
    }
   ],
   "source": [
    "np.random.rand(10)"
   ]
  },
  {
   "cell_type": "code",
   "execution_count": 6,
   "id": "82356988",
   "metadata": {},
   "outputs": [],
   "source": [
    "np.random.seed(0) # 시드 재설정"
   ]
  },
  {
   "cell_type": "code",
   "execution_count": 7,
   "id": "b1a61dcc",
   "metadata": {},
   "outputs": [
    {
     "data": {
      "text/plain": [
       "array([0.5488135 , 0.71518937, 0.60276338, 0.54488318, 0.4236548 ])"
      ]
     },
     "execution_count": 7,
     "metadata": {},
     "output_type": "execute_result"
    }
   ],
   "source": [
    "np.random.rand(5)"
   ]
  },
  {
   "cell_type": "code",
   "execution_count": 8,
   "id": "afaa4fd4",
   "metadata": {},
   "outputs": [
    {
     "data": {
      "text/plain": [
       "array([0.64589411, 0.43758721, 0.891773  , 0.96366276, 0.38344152,\n",
       "       0.79172504, 0.52889492, 0.56804456, 0.92559664, 0.07103606])"
      ]
     },
     "execution_count": 8,
     "metadata": {},
     "output_type": "execute_result"
    }
   ],
   "source": [
    "np.random.rand(10)"
   ]
  },
  {
   "cell_type": "code",
   "execution_count": 9,
   "id": "d25bac06",
   "metadata": {},
   "outputs": [
    {
     "data": {
      "text/plain": [
       "array([0.0871293 , 0.0202184 , 0.83261985, 0.77815675, 0.87001215,\n",
       "       0.97861834, 0.79915856, 0.46147936, 0.78052918, 0.11827443])"
      ]
     },
     "execution_count": 9,
     "metadata": {},
     "output_type": "execute_result"
    }
   ],
   "source": [
    "np.random.rand(10) # 같은 숫자 출력됨"
   ]
  },
  {
   "cell_type": "markdown",
   "id": "c0c1db08",
   "metadata": {},
   "source": [
    "### 데이터 순서 바꾸기\n",
    "- shuffle 함수를 사용. shuffle 함수도 자체 변환(in-place)함수로 한 번 사용하면 변수의 값이 바뀌므로 주의해야 한다."
   ]
  },
  {
   "cell_type": "code",
   "execution_count": 12,
   "id": "1ea57096",
   "metadata": {},
   "outputs": [
    {
     "data": {
      "text/plain": [
       "array([0, 1, 2, 3, 4, 5, 6, 7, 8, 9])"
      ]
     },
     "execution_count": 12,
     "metadata": {},
     "output_type": "execute_result"
    }
   ],
   "source": [
    "x = np.arange(10)\n",
    "x"
   ]
  },
  {
   "cell_type": "code",
   "execution_count": 13,
   "id": "aab4c3f6",
   "metadata": {},
   "outputs": [
    {
     "data": {
      "text/plain": [
       "array([6, 3, 9, 2, 8, 7, 5, 4, 1, 0])"
      ]
     },
     "execution_count": 13,
     "metadata": {},
     "output_type": "execute_result"
    }
   ],
   "source": [
    "np.random.shuffle(x)\n",
    "x"
   ]
  },
  {
   "cell_type": "markdown",
   "id": "ae0ef7a7",
   "metadata": {},
   "source": [
    "### 데이터 샘플링\n",
    "- choice 함수 사용.\n",
    "- a : 배열이면 원래의 데이터, 정수이면 arange(a) 명령으로 데이터 생성\n",
    "- size : 정수. 샘플 숫자\n",
    "- replace : 불리언. True이면 한번 선택한 데이터를 다시 선택 가능\n",
    "- p : 배열. 각 데이터가 선택될 수 있는 확률"
   ]
  },
  {
   "cell_type": "code",
   "execution_count": 14,
   "id": "7fe8e82f",
   "metadata": {},
   "outputs": [
    {
     "data": {
      "text/plain": [
       "array([1, 4, 3, 0, 2])"
      ]
     },
     "execution_count": 14,
     "metadata": {},
     "output_type": "execute_result"
    }
   ],
   "source": [
    "np.random.choice(5,5,replace=False) # shuffle 명령과 같다."
   ]
  },
  {
   "cell_type": "code",
   "execution_count": 16,
   "id": "77f9581b",
   "metadata": {},
   "outputs": [
    {
     "data": {
      "text/plain": [
       "array([3, 0, 2])"
      ]
     },
     "execution_count": 16,
     "metadata": {},
     "output_type": "execute_result"
    }
   ],
   "source": [
    "np.random.choice(5,3,replace=False)"
   ]
  },
  {
   "cell_type": "code",
   "execution_count": 17,
   "id": "617eb79d",
   "metadata": {},
   "outputs": [
    {
     "data": {
      "text/plain": [
       "array([4, 1, 1, 0, 1, 1, 1, 1, 0, 4])"
      ]
     },
     "execution_count": 17,
     "metadata": {},
     "output_type": "execute_result"
    }
   ],
   "source": [
    "np.random.choice(5,10) # 반복해서 10개 선택"
   ]
  },
  {
   "cell_type": "code",
   "execution_count": 18,
   "id": "5b349dbf",
   "metadata": {},
   "outputs": [
    {
     "data": {
      "text/plain": [
       "array([3, 3, 2, 0, 3, 3, 3, 3, 2, 2])"
      ]
     },
     "execution_count": 18,
     "metadata": {},
     "output_type": "execute_result"
    }
   ],
   "source": [
    "np.random.choice(5,10,p=[0.1,0,0.3,0.6,0]) # 선택 확률을 다르게 해서 10개 선택"
   ]
  },
  {
   "cell_type": "markdown",
   "id": "b41a2470",
   "metadata": {},
   "source": [
    "### 난수 생성\n",
    "- rand : 0부터 1사이의 균일 분포\n",
    "- randn : 표준 정규 분포\n",
    "- randint : 균일 분포의 정수 난수"
   ]
  },
  {
   "cell_type": "code",
   "execution_count": 19,
   "id": "6d4deebd",
   "metadata": {},
   "outputs": [
    {
     "data": {
      "text/plain": [
       "array([0.14212014, 0.78331447, 0.41253884, 0.03417131, 0.62402999,\n",
       "       0.66063573, 0.29849529, 0.44613451, 0.22212455, 0.07336417])"
      ]
     },
     "execution_count": 19,
     "metadata": {},
     "output_type": "execute_result"
    }
   ],
   "source": [
    "np.random.rand(10)"
   ]
  },
  {
   "cell_type": "code",
   "execution_count": 20,
   "id": "1a3bd05b",
   "metadata": {},
   "outputs": [
    {
     "data": {
      "text/plain": [
       "array([[0.46923853, 0.09617226, 0.90337017, 0.11949047, 0.52479938],\n",
       "       [0.083623  , 0.91686133, 0.91044838, 0.29893011, 0.58438912],\n",
       "       [0.56591203, 0.61393832, 0.95653566, 0.26097898, 0.23101542]])"
      ]
     },
     "execution_count": 20,
     "metadata": {},
     "output_type": "execute_result"
    }
   ],
   "source": [
    "np.random.rand(3,5)"
   ]
  },
  {
   "cell_type": "code",
   "execution_count": 21,
   "id": "71664f8d",
   "metadata": {},
   "outputs": [
    {
     "data": {
      "text/plain": [
       "array([ 0.6393049 ,  0.04752605,  3.11483365, -0.53246159,  0.34558368,\n",
       "       -0.42551404, -2.23877138,  1.75539696, -0.26419336,  0.84629447])"
      ]
     },
     "execution_count": 21,
     "metadata": {},
     "output_type": "execute_result"
    }
   ],
   "source": [
    "np.random.randn(10)"
   ]
  },
  {
   "cell_type": "code",
   "execution_count": 22,
   "id": "ef5eaf9e",
   "metadata": {},
   "outputs": [
    {
     "data": {
      "text/plain": [
       "array([[ 2.0867325 ,  0.52647831,  0.983809  , -1.92220001, -0.89482523],\n",
       "       [ 0.33006282,  1.048591  ,  1.34989935,  1.24567511, -0.69119147],\n",
       "       [ 1.28107338, -0.72706431, -0.79916869, -0.00354562,  0.51259464]])"
      ]
     },
     "execution_count": 22,
     "metadata": {},
     "output_type": "execute_result"
    }
   ],
   "source": [
    "np.random.randn(3,5)"
   ]
  },
  {
   "cell_type": "markdown",
   "id": "de167ea1",
   "metadata": {},
   "source": [
    "- randint 함수 인수\n",
    "- numpy.random.randint(low, high=None, size=None)\n",
    "- high를 입력하지 않으면 0과 low 사이의 숫자를, high를 입력하면 low와 high는 사이의 숫자를 출력한다. size는 난수의 숫자"
   ]
  },
  {
   "cell_type": "code",
   "execution_count": 25,
   "id": "880b9ad1",
   "metadata": {},
   "outputs": [
    {
     "data": {
      "text/plain": [
       "array([7, 8, 9, 5, 7, 0, 9, 3, 9, 1])"
      ]
     },
     "execution_count": 25,
     "metadata": {},
     "output_type": "execute_result"
    }
   ],
   "source": [
    "np.random.randint(10,size=10)"
   ]
  },
  {
   "cell_type": "code",
   "execution_count": 26,
   "id": "40d8557b",
   "metadata": {},
   "outputs": [
    {
     "data": {
      "text/plain": [
       "array([14, 14, 16, 18, 18, 19, 12, 17, 15, 15])"
      ]
     },
     "execution_count": 26,
     "metadata": {},
     "output_type": "execute_result"
    }
   ],
   "source": [
    "np.random.randint(10,20,size=10)"
   ]
  },
  {
   "cell_type": "code",
   "execution_count": 27,
   "id": "46f4bf3a",
   "metadata": {},
   "outputs": [
    {
     "data": {
      "text/plain": [
       "array([[14, 15, 18, 15, 18],\n",
       "       [11, 11, 18, 17, 10],\n",
       "       [13, 14, 12, 10, 13]])"
      ]
     },
     "execution_count": 27,
     "metadata": {},
     "output_type": "execute_result"
    }
   ],
   "source": [
    "np.random.randint(10,20,size=(3,5))"
   ]
  },
  {
   "cell_type": "markdown",
   "id": "50b4871a",
   "metadata": {},
   "source": [
    "#### 연습 문제 3.5.1"
   ]
  },
  {
   "cell_type": "code",
   "execution_count": 33,
   "id": "eab5835b",
   "metadata": {},
   "outputs": [
    {
     "data": {
      "text/plain": [
       "array([0, 1, 1, 1, 1, 0, 1, 1, 0, 1])"
      ]
     },
     "execution_count": 33,
     "metadata": {},
     "output_type": "execute_result"
    }
   ],
   "source": [
    "q1 = np.random.randint(0,2,size=10)\n",
    "q1"
   ]
  },
  {
   "cell_type": "code",
   "execution_count": 34,
   "id": "a54b7db6",
   "metadata": {},
   "outputs": [
    {
     "data": {
      "text/plain": [
       "0.4"
      ]
     },
     "execution_count": 34,
     "metadata": {},
     "output_type": "execute_result"
    }
   ],
   "source": [
    "q2 = np.random.randint(0,2,size=100).mean()\n",
    "q2"
   ]
  },
  {
   "cell_type": "markdown",
   "id": "a2487d38",
   "metadata": {},
   "source": [
    "#### 연습 문제 3.5.2"
   ]
  },
  {
   "cell_type": "code",
   "execution_count": 35,
   "id": "04d52b76",
   "metadata": {},
   "outputs": [
    {
     "data": {
      "text/plain": [
       "array([-1.67860864e-01, -2.09724060e+00, -4.48630634e-01,  4.70559593e-01,\n",
       "       -1.39857823e+00,  5.48882898e-01, -2.47515015e-01, -2.25127476e-01,\n",
       "        3.79691880e-01, -1.15694754e-01, -1.46620101e-01,  1.76939854e+00,\n",
       "       -3.21878358e-03, -6.66460132e-01, -7.71836011e-01, -2.64960679e-01,\n",
       "        1.10728223e+00, -1.34873652e+00,  5.90902752e-01,  3.79550710e-02,\n",
       "       -9.52724019e-01, -1.20102365e+00, -7.90439789e-02,  7.89893345e-01,\n",
       "        2.18617751e+00, -9.26690996e-01,  4.01845265e-01, -7.95893042e-01,\n",
       "        7.20232488e-01,  1.49161166e+00,  1.01177037e-01,  1.09823813e+00,\n",
       "        1.15155406e-01,  1.32243076e+00,  9.83158730e-01,  1.25718996e+00,\n",
       "        4.62572041e-01, -9.15033222e-01,  8.82388475e-01,  7.35969849e-01,\n",
       "       -1.35136197e+00,  1.12422540e+00, -5.86403112e-01,  1.45999738e+00,\n",
       "       -2.78077889e-01,  4.36612771e-01,  3.82216401e-02,  1.49007700e+00,\n",
       "        2.59779071e+00, -3.62915614e-01, -9.16934497e-01,  9.54016382e-01,\n",
       "       -3.51376813e-01,  1.10089616e+00,  1.11090279e+00, -2.47864187e-01,\n",
       "       -1.32842466e+00,  1.65363153e-01,  2.75443598e-02, -6.49903769e-01,\n",
       "       -7.62812359e-01,  8.82365163e-01, -8.38822246e-01, -6.78530900e-01,\n",
       "       -6.58892111e-02, -1.48403655e+00,  4.38773070e-02, -6.41334166e-01,\n",
       "        9.44917401e-01,  7.52543854e-02, -3.80485789e-01, -3.68750377e-01,\n",
       "        1.06561739e+00,  7.41526743e-02,  1.66294467e+00,  5.65754326e-01,\n",
       "        5.04286679e-02, -3.05173199e-01,  1.82577378e+00, -3.62193860e-01,\n",
       "       -2.01576670e-01, -9.42655570e-01, -1.72099969e-01,  1.17422741e+00,\n",
       "        5.18531830e-01,  1.03268739e+00,  7.63428634e-01,  9.53263946e-01,\n",
       "       -4.34240750e-01,  1.25111407e+00, -2.75048374e-01, -9.95240965e-01,\n",
       "        3.53063086e-01, -7.08728983e-02, -7.41436089e-01, -5.88525046e-01,\n",
       "        1.42646743e+00, -3.13786944e-01,  1.62802382e+00, -1.19750486e+00,\n",
       "       -2.72586394e+00,  1.40434749e+00, -1.20421948e-01,  8.32228148e-01,\n",
       "       -2.00727627e-01,  2.96724191e-01, -9.37287275e-01,  2.10112800e-02,\n",
       "       -2.66336975e-01, -3.71815125e-01, -4.07407300e-01,  7.78034099e-01,\n",
       "        2.34854014e-01,  4.30095328e-01,  2.43581549e-01, -1.46359705e+00,\n",
       "       -5.79977243e-01, -3.61645939e-01,  3.20079016e-01,  7.73884011e-01,\n",
       "       -5.71647118e-01,  2.47508552e-01, -1.71629052e+00,  5.87072919e-01,\n",
       "       -2.65162116e-01, -9.80281604e-01, -1.96983363e+00,  7.20758862e-01,\n",
       "        2.01876051e-02, -2.03073607e+00,  2.57342766e-01,  1.80871222e-01,\n",
       "        1.11116037e+00, -4.65621133e-01,  1.87869970e+00, -1.43708227e+00,\n",
       "        8.78455825e-01,  2.54625357e-02, -1.62765646e-01,  1.79732556e-01,\n",
       "       -1.96261300e+00, -1.42369198e-01,  8.06299856e-01, -6.83928129e-01,\n",
       "       -1.34230444e+00, -1.80724182e-01, -1.19206974e-01, -7.25790592e-01,\n",
       "       -1.06622357e+00,  3.84885498e-01, -1.16885828e+00,  1.25297679e+00,\n",
       "       -3.42259203e-01,  5.81591594e-01, -9.07116413e-01,  4.31429744e-01,\n",
       "       -1.50929239e+00, -4.86332931e-01, -1.65770661e-01,  6.99048210e-01,\n",
       "       -1.15520637e+00,  3.57335907e+00, -5.16744430e-01,  2.71000114e-01,\n",
       "       -1.24655045e+00,  3.39427099e-01,  6.72969781e-02,  2.02806060e-01,\n",
       "        8.51805104e-01, -8.08039697e-02, -7.27615119e-01,  2.54829012e-01,\n",
       "       -6.67777766e-02,  6.42774661e-01,  5.30246773e-01,  1.44613141e+00,\n",
       "        1.13658952e+00, -3.19002247e-01, -1.51471314e-02, -1.19109333e-01,\n",
       "       -2.20836387e+00, -2.36615707e-01,  1.73542616e+00, -1.11512167e+00,\n",
       "       -1.31089751e-01, -6.60480310e-01, -1.14562293e+00,  1.62918731e+00,\n",
       "        1.52736704e-01, -1.05828522e+00, -1.01948485e-01,  4.77197866e-02,\n",
       "       -1.97987568e+00,  1.11861489e+00,  7.19859783e-01,  1.37751003e+00,\n",
       "        8.47969274e-02, -5.10796132e-01,  1.88009490e+00,  2.36726540e-01,\n",
       "        6.80179779e-01, -6.30402526e-03, -2.00299884e-01,  2.09813153e-01,\n",
       "        2.28177057e-01,  1.34103368e+00,  1.15154069e+00, -1.62247894e+00,\n",
       "        5.63855976e-01,  1.89579139e+00,  6.68213932e-01,  9.43464398e-01,\n",
       "       -3.91276814e-01,  6.19344838e-01, -7.63692140e-01,  9.64887279e-01,\n",
       "       -7.41454208e-01,  1.31859127e+00, -3.09669871e-01, -1.18283883e+00,\n",
       "       -6.05101499e-01, -7.53974405e-01,  1.05313404e+00,  9.05864995e-01,\n",
       "        8.64260715e-01, -6.79682740e-01, -6.62364088e-01, -3.97474857e-01,\n",
       "       -3.34732221e-01, -2.87788777e-01, -7.47282050e-02,  3.26579877e-01,\n",
       "       -7.27902435e-01, -7.08432028e-01, -6.50093566e-01,  2.33164307e-01,\n",
       "        4.60485591e-01, -1.83170831e+00,  5.04910343e-01, -2.34664708e-01,\n",
       "        1.21461613e+00,  2.14181466e-01,  4.40163449e-01, -1.07367517e+00,\n",
       "       -6.31029339e-02, -3.16732875e-01, -1.36876034e+00, -1.07811369e+00,\n",
       "       -2.92375569e-01, -8.16589338e-01])"
      ]
     },
     "execution_count": 35,
     "metadata": {},
     "output_type": "execute_result"
    }
   ],
   "source": [
    "np.random.randn(250)"
   ]
  },
  {
   "cell_type": "markdown",
   "id": "46f2babd",
   "metadata": {},
   "source": [
    "### 정수 데이터 카운팅\n",
    "- 난수가 정수값이면 unique 명령이나 bincount 명령으로 데이터 값을 분석할 수 있다.\n",
    "- unique 함수는 데이터에서 중복된 값을 제거하고 중복되지 않는 값의 리스트를 출력한다.\n",
    "- return_counts 인수를 True로 설정하면 각 값을 가진 데이터 갯수도 출력한다."
   ]
  },
  {
   "cell_type": "code",
   "execution_count": 36,
   "id": "a82a5afe",
   "metadata": {},
   "outputs": [
    {
     "data": {
      "text/plain": [
       "array([ 2, 11, 34])"
      ]
     },
     "execution_count": 36,
     "metadata": {},
     "output_type": "execute_result"
    }
   ],
   "source": [
    "np.unique([11,2,2,34,34])"
   ]
  },
  {
   "cell_type": "code",
   "execution_count": 37,
   "id": "57fd1afd",
   "metadata": {},
   "outputs": [],
   "source": [
    "a = np.array(['a','b','b','c','a'])\n",
    "index, count = np.unique(a, return_counts=True)"
   ]
  },
  {
   "cell_type": "code",
   "execution_count": 38,
   "id": "6c7f46b0",
   "metadata": {},
   "outputs": [
    {
     "data": {
      "text/plain": [
       "array(['a', 'b', 'c'], dtype='<U1')"
      ]
     },
     "execution_count": 38,
     "metadata": {},
     "output_type": "execute_result"
    }
   ],
   "source": [
    "index"
   ]
  },
  {
   "cell_type": "code",
   "execution_count": 39,
   "id": "1f58205d",
   "metadata": {},
   "outputs": [
    {
     "data": {
      "text/plain": [
       "array([2, 2, 1], dtype=int64)"
      ]
     },
     "execution_count": 39,
     "metadata": {},
     "output_type": "execute_result"
    }
   ],
   "source": [
    "count"
   ]
  },
  {
   "cell_type": "markdown",
   "id": "76f225e0",
   "metadata": {},
   "source": [
    "- unique 함수는 데이터에 존재하는 값에 대해서만 갯수를 세므로 데이터 값이 나올 수 있음에도 불구하고 데이터가 하나도 없는 경우에는 정보를 주지 않는다.\n",
    "- 데이터가 특정 범위 안의 수인 경우에는 bincount함수에 minlength인수를 설정하는 것이 더 편리하다. bincount함수는 0부터 minlength -1까지의 숫자에 대해 각각 카운트를 한다. 데이터가 없을 경우에는 카운트 값이 0이 된다."
   ]
  },
  {
   "cell_type": "code",
   "execution_count": 40,
   "id": "0a00af46",
   "metadata": {},
   "outputs": [
    {
     "data": {
      "text/plain": [
       "array([0, 2, 3, 1, 0, 0], dtype=int64)"
      ]
     },
     "execution_count": 40,
     "metadata": {},
     "output_type": "execute_result"
    }
   ],
   "source": [
    "np.bincount([1,1,2,2,2,3],minlength=6)"
   ]
  }
 ],
 "metadata": {
  "kernelspec": {
   "display_name": "Python 3 (ipykernel)",
   "language": "python",
   "name": "python3"
  },
  "language_info": {
   "codemirror_mode": {
    "name": "ipython",
    "version": 3
   },
   "file_extension": ".py",
   "mimetype": "text/x-python",
   "name": "python",
   "nbconvert_exporter": "python",
   "pygments_lexer": "ipython3",
   "version": "3.9.7"
  }
 },
 "nbformat": 4,
 "nbformat_minor": 5
}
