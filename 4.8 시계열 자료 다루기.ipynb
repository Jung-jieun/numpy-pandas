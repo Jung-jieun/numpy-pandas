{
 "cells": [
  {
   "cell_type": "markdown",
   "id": "69550758",
   "metadata": {},
   "source": [
    "### DatetimeIndex\n",
    "- 판다스에서 시계열 자료를 생성하기 위해서는 인덱스를 DatetimeIndex 자료형으로 만들어야 한다. DatetimeIndex는 특정한 순간에 기록된 타임스탬프 형식의 시계열 자료를 다루기 위한 인덱스이다. 타임스탬프 인덱스의 라벨값이 반드시 일정한 간격일 필요는 없다.\n",
    "\n",
    "\n",
    "- pd.to_datetime : 날짜/시간을 나타내는 문자열을 자동으로 datetime 자료형으로 바꾼 후 DatetimeIndex 자료형 인덱스를 생성한다.\n",
    "- pd.date_range : 시작일과 종료일 또는 시작일과 기간을 입력하면 범위 내의 인덱스를 생성해 준다."
   ]
  },
  {
   "cell_type": "code",
   "execution_count": 1,
   "id": "69d8cf3c",
   "metadata": {},
   "outputs": [],
   "source": [
    "import numpy as np\n",
    "import pandas as pd"
   ]
  },
  {
   "cell_type": "code",
   "execution_count": 2,
   "id": "5715a1e2",
   "metadata": {},
   "outputs": [
    {
     "data": {
      "text/plain": [
       "DatetimeIndex(['2018-01-01', '2018-01-04', '2018-01-05', '2018-01-06'], dtype='datetime64[ns]', freq=None)"
      ]
     },
     "execution_count": 2,
     "metadata": {},
     "output_type": "execute_result"
    }
   ],
   "source": [
    "date_str = ['2018, 1, 1', '2018, 1, 4', '2018, 1, 5', '2018, 1, 6']\n",
    "idx = pd.to_datetime(date_str)\n",
    "idx"
   ]
  },
  {
   "cell_type": "code",
   "execution_count": 3,
   "id": "0f6c88e0",
   "metadata": {},
   "outputs": [
    {
     "data": {
      "text/plain": [
       "2018-01-01    1.764052\n",
       "2018-01-04    0.400157\n",
       "2018-01-05    0.978738\n",
       "2018-01-06    2.240893\n",
       "dtype: float64"
      ]
     },
     "execution_count": 3,
     "metadata": {},
     "output_type": "execute_result"
    }
   ],
   "source": [
    "np.random.seed(0)\n",
    "s = pd.Series(np.random.randn(4), index=idx) # 인덱스를 사용하여 시리즈나 데이터프레임을 생성\n",
    "s"
   ]
  },
  {
   "cell_type": "code",
   "execution_count": 4,
   "id": "0483f940",
   "metadata": {},
   "outputs": [
    {
     "data": {
      "text/plain": [
       "DatetimeIndex(['2018-04-01', '2018-04-02', '2018-04-03', '2018-04-04',\n",
       "               '2018-04-05', '2018-04-06', '2018-04-07', '2018-04-08',\n",
       "               '2018-04-09', '2018-04-10', '2018-04-11', '2018-04-12',\n",
       "               '2018-04-13', '2018-04-14', '2018-04-15', '2018-04-16',\n",
       "               '2018-04-17', '2018-04-18', '2018-04-19', '2018-04-20',\n",
       "               '2018-04-21', '2018-04-22', '2018-04-23', '2018-04-24',\n",
       "               '2018-04-25', '2018-04-26', '2018-04-27', '2018-04-28',\n",
       "               '2018-04-29', '2018-04-30'],\n",
       "              dtype='datetime64[ns]', freq='D')"
      ]
     },
     "execution_count": 4,
     "metadata": {},
     "output_type": "execute_result"
    }
   ],
   "source": [
    "pd.date_range('2018-4-1', '2018-4-30')"
   ]
  },
  {
   "cell_type": "code",
   "execution_count": 5,
   "id": "359e9a7d",
   "metadata": {},
   "outputs": [
    {
     "data": {
      "text/plain": [
       "DatetimeIndex(['2018-04-01', '2018-04-02', '2018-04-03', '2018-04-04',\n",
       "               '2018-04-05', '2018-04-06', '2018-04-07', '2018-04-08',\n",
       "               '2018-04-09', '2018-04-10', '2018-04-11', '2018-04-12',\n",
       "               '2018-04-13', '2018-04-14', '2018-04-15', '2018-04-16',\n",
       "               '2018-04-17', '2018-04-18', '2018-04-19', '2018-04-20',\n",
       "               '2018-04-21', '2018-04-22', '2018-04-23', '2018-04-24',\n",
       "               '2018-04-25', '2018-04-26', '2018-04-27', '2018-04-28',\n",
       "               '2018-04-29', '2018-04-30'],\n",
       "              dtype='datetime64[ns]', freq='D')"
      ]
     },
     "execution_count": 5,
     "metadata": {},
     "output_type": "execute_result"
    }
   ],
   "source": [
    "pd.date_range(start='2018-4-1', periods=30)"
   ]
  },
  {
   "cell_type": "markdown",
   "id": "33ecb0ec",
   "metadata": {},
   "source": [
    "#### freq 인수로 특정한 날짜만 생성되도록 하기\n",
    "- s: 초\n",
    "- T: 분\n",
    "- H: 시간\n",
    "- D: 일(day)\n",
    "- B: 주말이 아닌 평일\n",
    "- W: 주(일요일)\n",
    "- W-MON: 주(월요일)\n",
    "- M: 각 달(month)의 마지막 날\n",
    "- MS: 각 달의 첫날\n",
    "- BM: 주말이 아닌 평일 중에서 각 달의 마지막 날\n",
    "- BMS: 주말이 아닌 평일 중에서 각 달의 첫날\n",
    "- WOM-2THU: 각 달의 두번째 목요일\n",
    "- Q-JAN: 각 분기의 첫달의 마지막 날\n",
    "- Q-DEC: 각 분기의 마지막 달의 마지막 날"
   ]
  },
  {
   "cell_type": "code",
   "execution_count": 6,
   "id": "d971c35e",
   "metadata": {},
   "outputs": [
    {
     "data": {
      "text/plain": [
       "DatetimeIndex(['2018-04-02', '2018-04-03', '2018-04-04', '2018-04-05',\n",
       "               '2018-04-06', '2018-04-09', '2018-04-10', '2018-04-11',\n",
       "               '2018-04-12', '2018-04-13', '2018-04-16', '2018-04-17',\n",
       "               '2018-04-18', '2018-04-19', '2018-04-20', '2018-04-23',\n",
       "               '2018-04-24', '2018-04-25', '2018-04-26', '2018-04-27',\n",
       "               '2018-04-30'],\n",
       "              dtype='datetime64[ns]', freq='B')"
      ]
     },
     "execution_count": 6,
     "metadata": {},
     "output_type": "execute_result"
    }
   ],
   "source": [
    "pd.date_range('2018-4-1','2018-4-30',freq='B')"
   ]
  },
  {
   "cell_type": "code",
   "execution_count": 7,
   "id": "5e3ca935",
   "metadata": {},
   "outputs": [
    {
     "data": {
      "text/plain": [
       "DatetimeIndex(['2018-01-07', '2018-01-14', '2018-01-21', '2018-01-28',\n",
       "               '2018-02-04', '2018-02-11', '2018-02-18', '2018-02-25',\n",
       "               '2018-03-04', '2018-03-11', '2018-03-18', '2018-03-25',\n",
       "               '2018-04-01', '2018-04-08', '2018-04-15', '2018-04-22',\n",
       "               '2018-04-29', '2018-05-06', '2018-05-13', '2018-05-20',\n",
       "               '2018-05-27', '2018-06-03', '2018-06-10', '2018-06-17',\n",
       "               '2018-06-24', '2018-07-01', '2018-07-08', '2018-07-15',\n",
       "               '2018-07-22', '2018-07-29', '2018-08-05', '2018-08-12',\n",
       "               '2018-08-19', '2018-08-26', '2018-09-02', '2018-09-09',\n",
       "               '2018-09-16', '2018-09-23', '2018-09-30', '2018-10-07',\n",
       "               '2018-10-14', '2018-10-21', '2018-10-28', '2018-11-04',\n",
       "               '2018-11-11', '2018-11-18', '2018-11-25', '2018-12-02',\n",
       "               '2018-12-09', '2018-12-16', '2018-12-23', '2018-12-30'],\n",
       "              dtype='datetime64[ns]', freq='W-SUN')"
      ]
     },
     "execution_count": 7,
     "metadata": {},
     "output_type": "execute_result"
    }
   ],
   "source": [
    "pd.date_range('2018-1-1','2018-12-31',freq='w')"
   ]
  },
  {
   "cell_type": "markdown",
   "id": "36ff9c83",
   "metadata": {},
   "source": [
    "### shift 연산\n",
    "- 인덱스는 그대로 두고 데이터만 이동"
   ]
  },
  {
   "cell_type": "code",
   "execution_count": 8,
   "id": "a70d893d",
   "metadata": {},
   "outputs": [
    {
     "data": {
      "text/plain": [
       "2018-01-31    1.764052\n",
       "2018-02-28    0.400157\n",
       "2018-03-31    0.978738\n",
       "2018-04-30    2.240893\n",
       "Freq: M, dtype: float64"
      ]
     },
     "execution_count": 8,
     "metadata": {},
     "output_type": "execute_result"
    }
   ],
   "source": [
    "np.random.seed(0)\n",
    "ts = pd.Series(np.random.randn(4), index=pd.date_range(\n",
    "    '2018-1-1', periods=4, freq='m'))\n",
    "ts"
   ]
  },
  {
   "cell_type": "code",
   "execution_count": 9,
   "id": "e6459a45",
   "metadata": {},
   "outputs": [
    {
     "data": {
      "text/plain": [
       "2018-01-31         NaN\n",
       "2018-02-28    1.764052\n",
       "2018-03-31    0.400157\n",
       "2018-04-30    0.978738\n",
       "Freq: M, dtype: float64"
      ]
     },
     "execution_count": 9,
     "metadata": {},
     "output_type": "execute_result"
    }
   ],
   "source": [
    "ts.shift(1)"
   ]
  },
  {
   "cell_type": "code",
   "execution_count": 10,
   "id": "68803ced",
   "metadata": {},
   "outputs": [
    {
     "data": {
      "text/plain": [
       "2018-01-31    0.400157\n",
       "2018-02-28    0.978738\n",
       "2018-03-31    2.240893\n",
       "2018-04-30         NaN\n",
       "Freq: M, dtype: float64"
      ]
     },
     "execution_count": 10,
     "metadata": {},
     "output_type": "execute_result"
    }
   ],
   "source": [
    "ts.shift(-1)"
   ]
  },
  {
   "cell_type": "code",
   "execution_count": 11,
   "id": "9ad2b75d",
   "metadata": {},
   "outputs": [
    {
     "data": {
      "text/plain": [
       "2018-02-28    1.764052\n",
       "2018-03-31    0.400157\n",
       "2018-04-30    0.978738\n",
       "2018-05-31    2.240893\n",
       "Freq: M, dtype: float64"
      ]
     },
     "execution_count": 11,
     "metadata": {},
     "output_type": "execute_result"
    }
   ],
   "source": [
    "ts.shift(1, freq='m')"
   ]
  },
  {
   "cell_type": "code",
   "execution_count": 12,
   "id": "da224986",
   "metadata": {},
   "outputs": [
    {
     "data": {
      "text/plain": [
       "2018-02-04    1.764052\n",
       "2018-03-04    0.400157\n",
       "2018-04-01    0.978738\n",
       "2018-05-06    2.240893\n",
       "dtype: float64"
      ]
     },
     "execution_count": 12,
     "metadata": {},
     "output_type": "execute_result"
    }
   ],
   "source": [
    "ts.shift(1, freq='w')"
   ]
  },
  {
   "cell_type": "markdown",
   "id": "5d73bc7b",
   "metadata": {},
   "source": [
    "### resample 연산\n",
    "- 시간 간격을 재조정하는 resampling이 가능하다. 이때 시간 구간이 작아지면 데이터 양이 증가한다고 해서 up-sampling이라 하고 시간 구간이 커지면 데이터 양이 감소한다고 해서 down-sampling이라 부른다."
   ]
  },
  {
   "cell_type": "code",
   "execution_count": 14,
   "id": "bdd026db",
   "metadata": {},
   "outputs": [
    {
     "data": {
      "text/plain": [
       "2018-03-22    0.625231\n",
       "2018-03-23   -1.602058\n",
       "2018-03-24   -1.104383\n",
       "2018-03-25    0.052165\n",
       "2018-03-26   -0.739563\n",
       "2018-03-27    1.543015\n",
       "2018-03-28   -1.292857\n",
       "2018-03-29    0.267051\n",
       "2018-03-30   -0.039283\n",
       "2018-03-31   -1.168093\n",
       "2018-04-01    0.523277\n",
       "2018-04-02   -0.171546\n",
       "2018-04-03    0.771791\n",
       "2018-04-04    0.823504\n",
       "2018-04-05    2.163236\n",
       "2018-04-06    1.336528\n",
       "2018-04-07   -0.369182\n",
       "2018-04-08   -0.239379\n",
       "2018-04-09    1.099660\n",
       "2018-04-10    0.655264\n",
       "Freq: D, dtype: float64"
      ]
     },
     "execution_count": 14,
     "metadata": {},
     "output_type": "execute_result"
    }
   ],
   "source": [
    "ts = pd.Series(np.random.randn(100), index=pd.date_range(\n",
    "    '2018-1-1', periods=100, freq='d'))\n",
    "ts.tail(20)"
   ]
  },
  {
   "cell_type": "markdown",
   "id": "493ff82a",
   "metadata": {},
   "source": [
    "- 다운-샘플링의 경우에는 원래의 데이터가 그룹으로 묶이기 때문에 그룹바이(groupby)때와 같이 그룹 연산을 해서 대표값을 구해야 한다."
   ]
  },
  {
   "cell_type": "code",
   "execution_count": 15,
   "id": "a04028b0",
   "metadata": {},
   "outputs": [
    {
     "data": {
      "text/plain": [
       "2018-01-07    0.697206\n",
       "2018-01-14    0.468797\n",
       "2018-01-21    0.249052\n",
       "2018-01-28    0.301938\n",
       "2018-02-04    0.023198\n",
       "2018-02-11    0.283486\n",
       "2018-02-18   -0.096136\n",
       "2018-02-25   -0.446708\n",
       "2018-03-04    0.155312\n",
       "2018-03-11    0.200799\n",
       "2018-03-18   -0.376808\n",
       "2018-03-25   -0.895860\n",
       "2018-04-01   -0.129493\n",
       "2018-04-08    0.616422\n",
       "2018-04-15    0.877462\n",
       "Freq: W-SUN, dtype: float64"
      ]
     },
     "execution_count": 15,
     "metadata": {},
     "output_type": "execute_result"
    }
   ],
   "source": [
    "ts.resample('w').mean()"
   ]
  },
  {
   "cell_type": "code",
   "execution_count": 16,
   "id": "da2a4367",
   "metadata": {},
   "outputs": [
    {
     "data": {
      "text/plain": [
       "2018-01-31   -1.173123\n",
       "2018-02-28    0.676433\n",
       "2018-03-31    0.087551\n",
       "2018-04-30    0.523277\n",
       "Freq: M, dtype: float64"
      ]
     },
     "execution_count": 16,
     "metadata": {},
     "output_type": "execute_result"
    }
   ],
   "source": [
    "ts.resample('m').first()"
   ]
  },
  {
   "cell_type": "markdown",
   "id": "c8776570",
   "metadata": {},
   "source": [
    "- 날짜가 아닌 시/분 단위에서는 구간위 왼쪽 한계값(가장 빠른 값)은 포함하고 오른쪽 한계값(가장 늦은 값)은 포함하지 않는다. 즉, 가장 늦은 값은 다음 구간에 포함된다."
   ]
  },
  {
   "cell_type": "code",
   "execution_count": 17,
   "id": "2d28feda",
   "metadata": {},
   "outputs": [
    {
     "data": {
      "text/plain": [
       "2018-01-01 00:00:00    0.640132\n",
       "2018-01-01 00:01:00   -1.616956\n",
       "2018-01-01 00:02:00   -0.024326\n",
       "2018-01-01 00:03:00   -0.738031\n",
       "2018-01-01 00:04:00    0.279925\n",
       "2018-01-01 00:05:00   -0.098150\n",
       "2018-01-01 00:06:00    0.910179\n",
       "2018-01-01 00:07:00    0.317218\n",
       "2018-01-01 00:08:00    0.786328\n",
       "2018-01-01 00:09:00   -0.466419\n",
       "2018-01-01 00:10:00   -0.944446\n",
       "2018-01-01 00:11:00   -0.410050\n",
       "2018-01-01 00:12:00   -0.017020\n",
       "2018-01-01 00:13:00    0.379152\n",
       "2018-01-01 00:14:00    2.259309\n",
       "2018-01-01 00:15:00   -0.042257\n",
       "2018-01-01 00:16:00   -0.955945\n",
       "2018-01-01 00:17:00   -0.345982\n",
       "2018-01-01 00:18:00   -0.463596\n",
       "2018-01-01 00:19:00    0.481481\n",
       "Freq: T, dtype: float64"
      ]
     },
     "execution_count": 17,
     "metadata": {},
     "output_type": "execute_result"
    }
   ],
   "source": [
    "ts = pd.Series(np.random.randn(60), index=pd.date_range(\n",
    "    '2018-1-1', periods=60, freq='T'))\n",
    "ts.head(20)"
   ]
  },
  {
   "cell_type": "code",
   "execution_count": 18,
   "id": "a9345ee4",
   "metadata": {},
   "outputs": [
    {
     "data": {
      "text/plain": [
       "2018-01-01 00:00:00   -0.010101\n",
       "2018-01-01 00:10:00   -0.059354\n",
       "2018-01-01 00:20:00   -3.968277\n",
       "2018-01-01 00:30:00   -1.312698\n",
       "2018-01-01 00:40:00   -2.264954\n",
       "2018-01-01 00:50:00   -4.039789\n",
       "Freq: 10T, dtype: float64"
      ]
     },
     "execution_count": 18,
     "metadata": {},
     "output_type": "execute_result"
    }
   ],
   "source": [
    "ts.resample('10T').sum()"
   ]
  },
  {
   "cell_type": "markdown",
   "id": "031a3c9c",
   "metadata": {},
   "source": [
    "- 왼쪽이 아니라 오른쪽 한계값을 구간에 포함 할때 closed='right'"
   ]
  },
  {
   "cell_type": "code",
   "execution_count": 19,
   "id": "93e6f702",
   "metadata": {},
   "outputs": [
    {
     "data": {
      "text/plain": [
       "2017-12-31 23:50:00    0.640132\n",
       "2018-01-01 00:00:00   -1.594679\n",
       "2018-01-01 00:10:00   -0.655705\n",
       "2018-01-01 00:20:00   -3.583663\n",
       "2018-01-01 00:30:00   -0.465529\n",
       "2018-01-01 00:40:00   -1.264402\n",
       "2018-01-01 00:50:00   -4.731328\n",
       "Freq: 10T, dtype: float64"
      ]
     },
     "execution_count": 19,
     "metadata": {},
     "output_type": "execute_result"
    }
   ],
   "source": [
    "ts.resample('10T', closed='right').sum()"
   ]
  },
  {
   "cell_type": "code",
   "execution_count": 20,
   "id": "b2b17474",
   "metadata": {},
   "outputs": [
    {
     "data": {
      "text/html": [
       "<div>\n",
       "<style scoped>\n",
       "    .dataframe tbody tr th:only-of-type {\n",
       "        vertical-align: middle;\n",
       "    }\n",
       "\n",
       "    .dataframe tbody tr th {\n",
       "        vertical-align: top;\n",
       "    }\n",
       "\n",
       "    .dataframe thead th {\n",
       "        text-align: right;\n",
       "    }\n",
       "</style>\n",
       "<table border=\"1\" class=\"dataframe\">\n",
       "  <thead>\n",
       "    <tr style=\"text-align: right;\">\n",
       "      <th></th>\n",
       "      <th>open</th>\n",
       "      <th>high</th>\n",
       "      <th>low</th>\n",
       "      <th>close</th>\n",
       "    </tr>\n",
       "  </thead>\n",
       "  <tbody>\n",
       "    <tr>\n",
       "      <th>2018-01-01 00:00:00</th>\n",
       "      <td>0.640132</td>\n",
       "      <td>0.640132</td>\n",
       "      <td>-1.616956</td>\n",
       "      <td>0.279925</td>\n",
       "    </tr>\n",
       "    <tr>\n",
       "      <th>2018-01-01 00:05:00</th>\n",
       "      <td>-0.098150</td>\n",
       "      <td>0.910179</td>\n",
       "      <td>-0.466419</td>\n",
       "      <td>-0.466419</td>\n",
       "    </tr>\n",
       "    <tr>\n",
       "      <th>2018-01-01 00:10:00</th>\n",
       "      <td>-0.944446</td>\n",
       "      <td>2.259309</td>\n",
       "      <td>-0.944446</td>\n",
       "      <td>2.259309</td>\n",
       "    </tr>\n",
       "    <tr>\n",
       "      <th>2018-01-01 00:15:00</th>\n",
       "      <td>-0.042257</td>\n",
       "      <td>0.481481</td>\n",
       "      <td>-0.955945</td>\n",
       "      <td>0.481481</td>\n",
       "    </tr>\n",
       "    <tr>\n",
       "      <th>2018-01-01 00:20:00</th>\n",
       "      <td>-1.540797</td>\n",
       "      <td>0.232181</td>\n",
       "      <td>-1.540797</td>\n",
       "      <td>-0.597316</td>\n",
       "    </tr>\n",
       "    <tr>\n",
       "      <th>2018-01-01 00:25:00</th>\n",
       "      <td>-0.237922</td>\n",
       "      <td>0.416050</td>\n",
       "      <td>-1.424061</td>\n",
       "      <td>0.416050</td>\n",
       "    </tr>\n",
       "    <tr>\n",
       "      <th>2018-01-01 00:30:00</th>\n",
       "      <td>-1.156182</td>\n",
       "      <td>1.494485</td>\n",
       "      <td>-2.069985</td>\n",
       "      <td>0.426259</td>\n",
       "    </tr>\n",
       "    <tr>\n",
       "      <th>2018-01-01 00:35:00</th>\n",
       "      <td>0.676908</td>\n",
       "      <td>0.676908</td>\n",
       "      <td>-0.637437</td>\n",
       "      <td>-0.297791</td>\n",
       "    </tr>\n",
       "    <tr>\n",
       "      <th>2018-01-01 00:40:00</th>\n",
       "      <td>-0.309013</td>\n",
       "      <td>1.152332</td>\n",
       "      <td>-1.676004</td>\n",
       "      <td>-0.813364</td>\n",
       "    </tr>\n",
       "    <tr>\n",
       "      <th>2018-01-01 00:45:00</th>\n",
       "      <td>-1.466424</td>\n",
       "      <td>0.521065</td>\n",
       "      <td>-1.466424</td>\n",
       "      <td>-0.319328</td>\n",
       "    </tr>\n",
       "    <tr>\n",
       "      <th>2018-01-01 00:50:00</th>\n",
       "      <td>0.691539</td>\n",
       "      <td>0.694749</td>\n",
       "      <td>-1.582938</td>\n",
       "      <td>-1.582938</td>\n",
       "    </tr>\n",
       "    <tr>\n",
       "      <th>2018-01-01 00:55:00</th>\n",
       "      <td>0.610379</td>\n",
       "      <td>0.610379</td>\n",
       "      <td>-1.188859</td>\n",
       "      <td>-0.052567</td>\n",
       "    </tr>\n",
       "  </tbody>\n",
       "</table>\n",
       "</div>"
      ],
      "text/plain": [
       "                         open      high       low     close\n",
       "2018-01-01 00:00:00  0.640132  0.640132 -1.616956  0.279925\n",
       "2018-01-01 00:05:00 -0.098150  0.910179 -0.466419 -0.466419\n",
       "2018-01-01 00:10:00 -0.944446  2.259309 -0.944446  2.259309\n",
       "2018-01-01 00:15:00 -0.042257  0.481481 -0.955945  0.481481\n",
       "2018-01-01 00:20:00 -1.540797  0.232181 -1.540797 -0.597316\n",
       "2018-01-01 00:25:00 -0.237922  0.416050 -1.424061  0.416050\n",
       "2018-01-01 00:30:00 -1.156182  1.494485 -2.069985  0.426259\n",
       "2018-01-01 00:35:00  0.676908  0.676908 -0.637437 -0.297791\n",
       "2018-01-01 00:40:00 -0.309013  1.152332 -1.676004 -0.813364\n",
       "2018-01-01 00:45:00 -1.466424  0.521065 -1.466424 -0.319328\n",
       "2018-01-01 00:50:00  0.691539  0.694749 -1.582938 -1.582938\n",
       "2018-01-01 00:55:00  0.610379  0.610379 -1.188859 -0.052567"
      ]
     },
     "execution_count": 20,
     "metadata": {},
     "output_type": "execute_result"
    }
   ],
   "source": [
    "ts.resample('5T').ohlc() # open, highm low, close 값 "
   ]
  },
  {
   "cell_type": "markdown",
   "id": "591bda18",
   "metadata": {},
   "source": [
    "- 업-샘플링의 경우에는 실제로 존재하지 않는 데이터를 만들어야 한다. 이 대는 앞에서 나온 데이터를 뒤에서 그대로 쓰는 forward filling 방식과 뒤에서 나올 데이터를 앞에서 미리 쓰는 backward filling 방식을 사용할 수 있다."
   ]
  },
  {
   "cell_type": "code",
   "execution_count": 21,
   "id": "67634bb7",
   "metadata": {},
   "outputs": [
    {
     "data": {
      "text/plain": [
       "2018-01-01 00:00:00    0.640132\n",
       "2018-01-01 00:00:30    0.640132\n",
       "2018-01-01 00:01:00   -1.616956\n",
       "2018-01-01 00:01:30   -1.616956\n",
       "2018-01-01 00:02:00   -0.024326\n",
       "2018-01-01 00:02:30   -0.024326\n",
       "2018-01-01 00:03:00   -0.738031\n",
       "2018-01-01 00:03:30   -0.738031\n",
       "2018-01-01 00:04:00    0.279925\n",
       "2018-01-01 00:04:30    0.279925\n",
       "2018-01-01 00:05:00   -0.098150\n",
       "2018-01-01 00:05:30   -0.098150\n",
       "2018-01-01 00:06:00    0.910179\n",
       "2018-01-01 00:06:30    0.910179\n",
       "2018-01-01 00:07:00    0.317218\n",
       "2018-01-01 00:07:30    0.317218\n",
       "2018-01-01 00:08:00    0.786328\n",
       "2018-01-01 00:08:30    0.786328\n",
       "2018-01-01 00:09:00   -0.466419\n",
       "2018-01-01 00:09:30   -0.466419\n",
       "Freq: 30S, dtype: float64"
      ]
     },
     "execution_count": 21,
     "metadata": {},
     "output_type": "execute_result"
    }
   ],
   "source": [
    "ts.resample('30s').ffill().head(20)"
   ]
  },
  {
   "cell_type": "code",
   "execution_count": 22,
   "id": "847e95f8",
   "metadata": {},
   "outputs": [
    {
     "data": {
      "text/plain": [
       "2018-01-01 00:00:00    0.640132\n",
       "2018-01-01 00:00:30   -1.616956\n",
       "2018-01-01 00:01:00   -1.616956\n",
       "2018-01-01 00:01:30   -0.024326\n",
       "2018-01-01 00:02:00   -0.024326\n",
       "2018-01-01 00:02:30   -0.738031\n",
       "2018-01-01 00:03:00   -0.738031\n",
       "2018-01-01 00:03:30    0.279925\n",
       "2018-01-01 00:04:00    0.279925\n",
       "2018-01-01 00:04:30   -0.098150\n",
       "2018-01-01 00:05:00   -0.098150\n",
       "2018-01-01 00:05:30    0.910179\n",
       "2018-01-01 00:06:00    0.910179\n",
       "2018-01-01 00:06:30    0.317218\n",
       "2018-01-01 00:07:00    0.317218\n",
       "2018-01-01 00:07:30    0.786328\n",
       "2018-01-01 00:08:00    0.786328\n",
       "2018-01-01 00:08:30   -0.466419\n",
       "2018-01-01 00:09:00   -0.466419\n",
       "2018-01-01 00:09:30   -0.944446\n",
       "Freq: 30S, dtype: float64"
      ]
     },
     "execution_count": 22,
     "metadata": {},
     "output_type": "execute_result"
    }
   ],
   "source": [
    "ts.resample('30s').bfill().head(20)"
   ]
  },
  {
   "cell_type": "markdown",
   "id": "b1d5053e",
   "metadata": {},
   "source": [
    "### dt 접근자\n",
    "- datetime 자료형 시리즈에는 dt 접근자가 있어 datetime 자료형이 가진 몇 가지 유용한 속성과 메서드를 사용할 수 있다."
   ]
  },
  {
   "cell_type": "code",
   "execution_count": 23,
   "id": "bd08ee59",
   "metadata": {},
   "outputs": [
    {
     "data": {
      "text/plain": [
       "0    2020-12-25\n",
       "1    2020-12-26\n",
       "2    2020-12-27\n",
       "3    2020-12-28\n",
       "4    2020-12-29\n",
       "        ...    \n",
       "95   2021-03-30\n",
       "96   2021-03-31\n",
       "97   2021-04-01\n",
       "98   2021-04-02\n",
       "99   2021-04-03\n",
       "Length: 100, dtype: datetime64[ns]"
      ]
     },
     "execution_count": 23,
     "metadata": {},
     "output_type": "execute_result"
    }
   ],
   "source": [
    "s = pd.Series(pd.date_range('2020-12-25', periods=100, freq='d'))\n",
    "s"
   ]
  },
  {
   "cell_type": "code",
   "execution_count": 24,
   "id": "765b6721",
   "metadata": {},
   "outputs": [
    {
     "data": {
      "text/plain": [
       "0     2020\n",
       "1     2020\n",
       "2     2020\n",
       "3     2020\n",
       "4     2020\n",
       "      ... \n",
       "95    2021\n",
       "96    2021\n",
       "97    2021\n",
       "98    2021\n",
       "99    2021\n",
       "Length: 100, dtype: int64"
      ]
     },
     "execution_count": 24,
     "metadata": {},
     "output_type": "execute_result"
    }
   ],
   "source": [
    "s.dt.year"
   ]
  },
  {
   "cell_type": "code",
   "execution_count": 25,
   "id": "4364c0ef",
   "metadata": {},
   "outputs": [
    {
     "data": {
      "text/plain": [
       "0     4\n",
       "1     5\n",
       "2     6\n",
       "3     0\n",
       "4     1\n",
       "     ..\n",
       "95    1\n",
       "96    2\n",
       "97    3\n",
       "98    4\n",
       "99    5\n",
       "Length: 100, dtype: int64"
      ]
     },
     "execution_count": 25,
     "metadata": {},
     "output_type": "execute_result"
    }
   ],
   "source": [
    "s.dt.weekday # 0 : 월요일"
   ]
  },
  {
   "cell_type": "code",
   "execution_count": 27,
   "id": "3493de13",
   "metadata": {},
   "outputs": [
    {
     "data": {
      "text/plain": [
       "0     2020년 12월 25일\n",
       "1     2020년 12월 26일\n",
       "2     2020년 12월 27일\n",
       "3     2020년 12월 28일\n",
       "4     2020년 12월 29일\n",
       "          ...      \n",
       "95    2021년 03월 30일\n",
       "96    2021년 03월 31일\n",
       "97    2021년 04월 01일\n",
       "98    2021년 04월 02일\n",
       "99    2021년 04월 03일\n",
       "Length: 100, dtype: object"
      ]
     },
     "execution_count": 27,
     "metadata": {},
     "output_type": "execute_result"
    }
   ],
   "source": [
    "s.dt.strftime('%Y년 %m월 %d일') # 문자열 만들기"
   ]
  },
  {
   "cell_type": "code",
   "execution_count": null,
   "id": "da3985d9",
   "metadata": {},
   "outputs": [],
   "source": []
  },
  {
   "cell_type": "code",
   "execution_count": null,
   "id": "ba8db6cd",
   "metadata": {},
   "outputs": [],
   "source": []
  },
  {
   "cell_type": "code",
   "execution_count": null,
   "id": "1a335dbf",
   "metadata": {},
   "outputs": [],
   "source": []
  },
  {
   "cell_type": "code",
   "execution_count": null,
   "id": "8b5d9132",
   "metadata": {},
   "outputs": [],
   "source": []
  },
  {
   "cell_type": "code",
   "execution_count": null,
   "id": "e15bd0f6",
   "metadata": {},
   "outputs": [],
   "source": []
  }
 ],
 "metadata": {
  "kernelspec": {
   "display_name": "Python 3 (ipykernel)",
   "language": "python",
   "name": "python3"
  },
  "language_info": {
   "codemirror_mode": {
    "name": "ipython",
    "version": 3
   },
   "file_extension": ".py",
   "mimetype": "text/x-python",
   "name": "python",
   "nbconvert_exporter": "python",
   "pygments_lexer": "ipython3",
   "version": "3.9.7"
  }
 },
 "nbformat": 4,
 "nbformat_minor": 5
}
